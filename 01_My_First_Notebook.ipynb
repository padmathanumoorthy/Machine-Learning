{
 "cells": [
  {
   "cell_type": "markdown",
   "id": "b64740e2",
   "metadata": {},
   "source": [
    "#### Introduction to Machine Learning\n",
    "- by Rahul"
   ]
  },
  {
   "cell_type": "code",
   "execution_count": 1,
   "id": "2750afa9",
   "metadata": {},
   "outputs": [
    {
     "name": "stdout",
     "output_type": "stream",
     "text": [
      "Hello from Python\n"
     ]
    }
   ],
   "source": [
    "print('Hello from Python')"
   ]
  },
  {
   "cell_type": "code",
   "execution_count": 2,
   "id": "9868b628",
   "metadata": {},
   "outputs": [],
   "source": [
    "a = 3"
   ]
  },
  {
   "cell_type": "code",
   "execution_count": 3,
   "id": "0d3c4098",
   "metadata": {},
   "outputs": [
    {
     "name": "stdout",
     "output_type": "stream",
     "text": [
      "13\n"
     ]
    }
   ],
   "source": [
    "print(a + 10)"
   ]
  },
  {
   "cell_type": "code",
   "execution_count": 4,
   "id": "08660390",
   "metadata": {},
   "outputs": [
    {
     "data": {
      "text/plain": [
       "13"
      ]
     },
     "execution_count": 4,
     "metadata": {},
     "output_type": "execute_result"
    }
   ],
   "source": [
    "a + 10"
   ]
  },
  {
   "cell_type": "code",
   "execution_count": 9,
   "id": "6e2b1c47",
   "metadata": {},
   "outputs": [
    {
     "name": "stdout",
     "output_type": "stream",
     "text": [
      "10\n",
      "20\n"
     ]
    }
   ],
   "source": [
    "a = 10\n",
    "b = 20\n",
    "print(a)\n",
    "print(b)"
   ]
  },
  {
   "cell_type": "code",
   "execution_count": 3,
   "id": "46e7cc36",
   "metadata": {},
   "outputs": [
    {
     "name": "stdout",
     "output_type": "stream",
     "text": [
      "Hello John\n",
      "Hello Sam\n",
      "Hello Mat\n"
     ]
    }
   ],
   "source": [
    "import hello\n",
    "hello.say_hello('John')\n",
    "hello.say_hello('Sam')\n",
    "hello.say_hello('Mat')"
   ]
  },
  {
   "cell_type": "code",
   "execution_count": 4,
   "id": "66599fce",
   "metadata": {},
   "outputs": [
    {
     "name": "stdout",
     "output_type": "stream",
     "text": [
      "Hello John\n"
     ]
    }
   ],
   "source": [
    "from hello import say_hello\n",
    "say_hello('John')"
   ]
  },
  {
   "cell_type": "code",
   "execution_count": 5,
   "id": "d32fbf03",
   "metadata": {},
   "outputs": [
    {
     "name": "stdout",
     "output_type": "stream",
     "text": [
      "Hello-2 John\n"
     ]
    }
   ],
   "source": [
    "from hello2 import say_hello\n",
    "say_hello('John')"
   ]
  },
  {
   "cell_type": "code",
   "execution_count": 8,
   "id": "b9de94a5",
   "metadata": {},
   "outputs": [
    {
     "name": "stdout",
     "output_type": "stream",
     "text": [
      "Hello John\n"
     ]
    }
   ],
   "source": [
    "from hello import say_hello as s1\n",
    "from hello2 import say_hello as s2\n",
    "s1('John')"
   ]
  }
 ],
 "metadata": {
  "kernelspec": {
   "display_name": "Python 3 (ipykernel)",
   "language": "python",
   "name": "python3"
  },
  "language_info": {
   "codemirror_mode": {
    "name": "ipython",
    "version": 3
   },
   "file_extension": ".py",
   "mimetype": "text/x-python",
   "name": "python",
   "nbconvert_exporter": "python",
   "pygments_lexer": "ipython3",
   "version": "3.11.8"
  }
 },
 "nbformat": 4,
 "nbformat_minor": 5
}
